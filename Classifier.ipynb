{
 "cells": [
  {
   "cell_type": "markdown",
   "metadata": {},
   "source": [
    "## Sign language classifier"
   ]
  },
  {
   "cell_type": "markdown",
   "metadata": {},
   "source": [
    "Importing Libraries"
   ]
  },
  {
   "cell_type": "code",
   "execution_count": null,
   "metadata": {},
   "outputs": [],
   "source": [
    "%matplotlib inline\n",
    "import matplotlib.pyplot as plt\n",
    "import matplotlib.image as mpimg\n",
    "import tensorflow as tf\n",
    "import numpy as np\n",
    "import pandas as pd\n",
    "from sklearn.metrics import multilabel_confusion_matrix\n",
    "import cv2\n",
    "import time"
   ]
  },
  {
   "cell_type": "code",
   "execution_count": null,
   "metadata": {},
   "outputs": [],
   "source": [
    "print(cv2.__version__)"
   ]
  },
  {
   "cell_type": "markdown",
   "metadata": {},
   "source": [
    "### Preparing Dataset"
   ]
  },
  {
   "cell_type": "code",
   "execution_count": null,
   "metadata": {},
   "outputs": [],
   "source": [
    "def preprocessing(train_path, test_path):\n",
    "    \n",
    "    df = pd.read_csv(train_path)\n",
    "    test_df = pd.read_csv(test_path)\n",
    "        \n",
    "    df_numpy = np.asanyarray(df)\n",
    "\n",
    "    train_X = df_numpy[:, 1:]\n",
    "    train_Y = df_numpy[:, 0]\n",
    "\n",
    "    train_X = train_X.reshape(27455, 28, 28, 1)\n",
    "    train_Y = train_Y.reshape(27455, 1)\n",
    "\n",
    "    plt.imshow(train_X[45].reshape(28, 28))\n",
    "    plt.show()\n",
    "\n",
    "    df_test_numpy = np.asanyarray(test_df)\n",
    "\n",
    "    test_X = df_test_numpy[:, 1:]\n",
    "    test_Y = df_test_numpy[:, 0]\n",
    "\n",
    "    test_X = test_X.reshape(7172, 28, 28, 1)\n",
    "    test_Y = test_Y.reshape(7172, 1)\n",
    "\n",
    "    test_X = test_X/1.0\n",
    "\n",
    "    plt.imshow(test_X[909].reshape(28, 28))\n",
    "    plt.show()\n",
    "    \n",
    "    \n",
    "    return train_X, test_X, train_Y, test_Y\n",
    "    \n",
    "    \n",
    "train_X, test_X, train_Y, test_Y = preprocessing(\"D:\\Datasets\\Sign Language Mnist\\sign_mnist_train.csv\", \"D:\\Datasets\\Sign Language Mnist\\sign_mnist_test.csv\")"
   ]
  },
  {
   "cell_type": "code",
   "execution_count": null,
   "metadata": {},
   "outputs": [],
   "source": [
    "def create_model(path=None):\n",
    "    if(path==None):\n",
    "        model = tf.keras.Sequential([\n",
    "            tf.keras.layers.Conv2D(75, (3, 3), strides=1, padding=\"same\", activation=tf.nn.relu, input_shape=(28, 28, 1)),\n",
    "            tf.keras.layers.MaxPool2D((2, 2), strides=2, padding=\"same\"),\n",
    "            tf.keras.layers.Conv2D(50, (3, 3), strides=1, padding=\"same\", activation=tf.nn.relu),\n",
    "            tf.keras.layers.MaxPool2D((2, 2), strides=2, padding=\"same\"),\n",
    "            tf.keras.layers.Conv2D(25, (3, 3), strides=1, padding=\"same\", activation=tf.nn.relu),\n",
    "            tf.keras.layers.MaxPool2D((2, 2), strides=2, padding=\"same\"),\n",
    "            tf.keras.layers.Flatten(),\n",
    "            tf.keras.layers.Dense(512, activation=tf.nn.relu),\n",
    "            tf.keras.layers.Dropout(0.2),\n",
    "            tf.keras.layers.Dense(25, activation=tf.nn.softmax)\n",
    "        ])\n",
    "        \n",
    "    else:\n",
    "        model = tf.keras.models.load_model(path)\n",
    "        \n",
    "    return model\n",
    "\n",
    "model = create_model()"
   ]
  },
  {
   "cell_type": "markdown",
   "metadata": {},
   "source": [
    "### Compiling Model"
   ]
  },
  {
   "cell_type": "code",
   "execution_count": null,
   "metadata": {},
   "outputs": [],
   "source": [
    "def compile_model(model):\n",
    "    model.compile(optimizer='adam',\n",
    "                  loss='sparse_categorical_crossentropy',\n",
    "                  metrics=['accuracy'])\n",
    "    \n",
    "    \n",
    "compile_model(model)"
   ]
  },
  {
   "cell_type": "markdown",
   "metadata": {},
   "source": [
    "### Summary of Model"
   ]
  },
  {
   "cell_type": "code",
   "execution_count": null,
   "metadata": {},
   "outputs": [],
   "source": [
    "model.summary()"
   ]
  },
  {
   "cell_type": "markdown",
   "metadata": {},
   "source": [
    "### Fiting model"
   ]
  },
  {
   "cell_type": "code",
   "execution_count": null,
   "metadata": {
    "scrolled": false
   },
   "outputs": [],
   "source": [
    "def fit_model(model, train_X, test_X, train_Y, test_Y):\n",
    "    \n",
    "        \n",
    "    class myCallback(tf.keras.callbacks.Callback):\n",
    "        def on_epoch_end(self, epoch, logs={}):\n",
    "            if(logs.get('accuracy')>0.99):\n",
    "                print(\"\\nReached 99% accuracy so cancelling training!\")\n",
    "                self.model.stop_training = True\n",
    "\n",
    "\n",
    "    callme = myCallback()\n",
    "\n",
    "\n",
    "    train_gen = tf.keras.preprocessing.image.ImageDataGenerator(rescale=(1/255.0),\n",
    "                                                                height_shift_range=0.2,\n",
    "                                                                width_shift_range=0.2,\n",
    "                                                                zoom_range=0.2,\n",
    "                                                                rotation_range=0.2,\n",
    "                                                                shear_range=0.2,\n",
    "                                                                horizontal_flip=True)\n",
    "    validation_gen = tf.keras.preprocessing.image.ImageDataGenerator(rescale=(1/255.0))\n",
    "    \n",
    "    \n",
    "    history = model.fit(train_gen.flow(train_X, train_Y, batch_size=125),\n",
    "                        epochs=20,\n",
    "                        steps_per_epoch=220,\n",
    "                        validation_data=validation_gen.flow(test_X, test_Y),\n",
    "                        callbacks=[callme])\n",
    "    return history\n",
    "    \n",
    "history = fit_model(model, train_X, test_X, train_Y, test_Y)"
   ]
  },
  {
   "cell_type": "markdown",
   "metadata": {},
   "source": [
    "### Plotting"
   ]
  },
  {
   "cell_type": "code",
   "execution_count": null,
   "metadata": {},
   "outputs": [],
   "source": [
    "model.save(\"classifier.h5\")\n",
    "def plotty(history):\n",
    "    acc = history.history['accuracy']\n",
    "    val_acc = history.history['val_accuracy']\n",
    "\n",
    "    loss = history.history['loss']\n",
    "    val_loss = history.history['val_loss']\n",
    "\n",
    "    epochs = range(len(acc))\n",
    "\n",
    "    plt.plot(epochs, acc)\n",
    "    plt.plot(epochs, val_acc)\n",
    "    plt.xlabel(\"Epochs\")\n",
    "    plt.ylabel(\"Accuracy\")\n",
    "    plt.savefig(\"acc.png\", dpi=350)\n",
    "    plt.show()\n",
    "\n",
    "    plt.plot(epochs, loss)\n",
    "    plt.plot(epochs, val_loss)\n",
    "    plt.xlabel(\"Epochs\")\n",
    "    plt.ylabel(\"Loss\")\n",
    "    plt.savefig(\"loss.png\", dpi=350)\n",
    "    plt.show()\n",
    "\n",
    "    img = mpimg.imread('img.png')\n",
    "    plt.imshow(img)\n",
    "    plt.show()\n",
    "    \n",
    "plotty(history)"
   ]
  },
  {
   "cell_type": "markdown",
   "metadata": {},
   "source": [
    "### Capture Image"
   ]
  },
  {
   "cell_type": "code",
   "execution_count": null,
   "metadata": {},
   "outputs": [],
   "source": [
    "def capture():\n",
    "    print(\"Capturing photo SMILE......\")\n",
    "    time.sleep(5)\n",
    "    cam = cv2.VideoCapture(0)\n",
    "    cam.set(3, 28)\n",
    "    cam.set(4, 28)\n",
    "    check, frame = cam.read()\n",
    "    cv2.imwrite(\"img.png\", frame)\n",
    "    cam.release()\n",
    "    gray = cv2.cvtColor(frame, cv2.COLOR_BGR2GRAY)\n",
    "    plt.imshow(gray)\n",
    "    cv2.destroyAllWindows()\n",
    "    \n",
    "capture()"
   ]
  },
  {
   "cell_type": "markdown",
   "metadata": {},
   "source": [
    "### Predictions"
   ]
  },
  {
   "cell_type": "code",
   "execution_count": null,
   "metadata": {
    "scrolled": false
   },
   "outputs": [],
   "source": [
    "pred_gen = tf.keras.preprocessing.image.ImageDataGenerator(rescale=(1/255.0))\n",
    "c = cv2.imread(\"img.png\",cv2.IMREAD_GRAYSCALE)\n",
    "new_c = cv2.resize(c,(28, 28))\n",
    "m = new_c.shape[0]\n",
    "n = new_c.shape[1]\n",
    "new_c_r = new_c.reshape(1, m,n,1)\n",
    "pred_img = pred_gen.flow(new_c_r)\n",
    "prediction = model.predict(pred_img)\n",
    "print(\"predicting on image....\")\n"
   ]
  },
  {
   "cell_type": "code",
   "execution_count": null,
   "metadata": {},
   "outputs": [],
   "source": [
    "plt.imshow(new_c)\n",
    "plt.show()"
   ]
  }
 ],
 "metadata": {
  "kernelspec": {
   "display_name": "Python [conda env:tensorflow] *",
   "language": "python",
   "name": "conda-env-tensorflow-py"
  },
  "language_info": {
   "codemirror_mode": {
    "name": "ipython",
    "version": 3
   },
   "file_extension": ".py",
   "mimetype": "text/x-python",
   "name": "python",
   "nbconvert_exporter": "python",
   "pygments_lexer": "ipython3",
   "version": "3.7.7"
  }
 },
 "nbformat": 4,
 "nbformat_minor": 4
}
